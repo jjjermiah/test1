{
 "cells": [
  {
   "cell_type": "markdown",
   "id": "442beff9",
   "metadata": {},
   "source": [
    "# Example Notebook\n",
    "\n",
    "This is just a quick example showing how to use the template."
   ]
  },
  {
   "cell_type": "code",
   "execution_count": 2,
   "id": "75fde9f9",
   "metadata": {},
   "outputs": [],
   "source": [
    "import logging\n",
    "\n",
    "logging.basicConfig(\n",
    "\tlevel=logging.INFO, format='%(asctime)s - %(levelname)s - %(message)s'\n",
    ")\n",
    "\n",
    "logger = logging.getLogger(__name__)"
   ]
  },
  {
   "cell_type": "code",
   "execution_count": 3,
   "id": "2d08bd5d",
   "metadata": {},
   "outputs": [
    {
     "name": "stdout",
     "output_type": "stream",
     "text": [
      "DamplyDirs<Structure: NESTED>\n",
      "Project Root: /Users/bhklab/TRASH/test-projs/test1\n",
      "CONFIG       : ├── config\n",
      "LOGS         : ├── logs\n",
      "METADATA     : ├── metadata\n",
      "NOTEBOOKS    : ├── workflow/notebooks\n",
      "PROCDATA     : ├── data/procdata\n",
      "RAWDATA      : ├── data/rawdata\n",
      "RESULTS      : ├── data/results\n",
      "SCRIPTS      : └── workflow/scripts\n"
     ]
    }
   ],
   "source": [
    "from damply import dirs\n",
    "\n",
    "print(dirs)"
   ]
  },
  {
   "cell_type": "code",
   "execution_count": 4,
   "id": "ac1f9617",
   "metadata": {},
   "outputs": [
    {
     "name": "stdout",
     "output_type": "stream",
     "text": [
      "dirs.RAWDATA=PosixPath('/Users/bhklab/TRASH/test-projs/test1/data/rawdata') has 1 files\n",
      "dirs.PROCDATA=PosixPath('/Users/bhklab/TRASH/test-projs/test1/data/procdata') has 1 files\n",
      "dirs.SCRIPTS=PosixPath('/Users/bhklab/TRASH/test-projs/test1/workflow/scripts') has 2 files\n"
     ]
    }
   ],
   "source": [
    "print(f'{dirs.RAWDATA=} has {len(list(dirs.RAWDATA.glob(\"*\")))} files')\n",
    "print(f'{dirs.PROCDATA=} has {len(list(dirs.PROCDATA.glob(\"*\")))} files')\n",
    "print(f'{dirs.SCRIPTS=} has {len(list(dirs.SCRIPTS.glob(\"*\")))} files')"
   ]
  },
  {
   "cell_type": "code",
   "execution_count": 7,
   "id": "cf818205",
   "metadata": {},
   "outputs": [
    {
     "name": "stdout",
     "output_type": "stream",
     "text": [
      "\u001b[01;34m/Users/bhklab/TRASH/test-projs/test1\u001b[0m\n",
      "├── \u001b[00mREADME.md\u001b[0m\n",
      "├── \u001b[01;34mconfig\u001b[0m\n",
      "├── \u001b[01;34mdata\u001b[0m\n",
      "│   ├── \u001b[01;34mprocdata\u001b[0m\n",
      "│   │   └── \u001b[00mREADME.md\u001b[0m\n",
      "│   ├── \u001b[01;34mrawdata\u001b[0m\n",
      "│   │   └── \u001b[00mREADME.md\u001b[0m\n",
      "│   └── \u001b[01;34mresults\u001b[0m\n",
      "│       └── \u001b[00mREADME.md\u001b[0m\n",
      "├── \u001b[01;34mdocs\u001b[0m\n",
      "│   ├── \u001b[00mdata_sources.md\u001b[0m\n",
      "│   ├── \u001b[00mdevnotes.md\u001b[0m\n",
      "│   ├── \u001b[00mindex.md\u001b[0m\n",
      "│   └── \u001b[00musage.md\u001b[0m\n",
      "├── \u001b[01;34mmetadata\u001b[0m\n",
      "├── \u001b[00mmkdocs.yaml\u001b[0m\n",
      "├── \u001b[00mpixi.lock\u001b[0m\n",
      "├── \u001b[00mpixi.toml\u001b[0m\n",
      "├── \u001b[01;34mresources\u001b[0m\n",
      "├── \u001b[00mruff.toml\u001b[0m\n",
      "├── \u001b[01;34msandbox\u001b[0m\n",
      "├── \u001b[00mversion.txt\u001b[0m\n",
      "└── \u001b[01;34mworkflow\u001b[0m\n",
      "    ├── \u001b[01;34mnotebooks\u001b[0m\n",
      "    │   ├── \u001b[00mREADME.md\u001b[0m\n",
      "    │   └── \u001b[00mexample_notebook.ipynb\u001b[0m\n",
      "    └── \u001b[01;34mscripts\u001b[0m\n",
      "        ├── \u001b[00mREADME.md\u001b[0m\n",
      "        └── \u001b[00mexample_script.py\u001b[0m\n",
      "\n",
      "13 directories, 17 files\n"
     ]
    }
   ],
   "source": [
    "!tree --gitignore {dirs.PROJECT_ROOT}"
   ]
  },
  {
   "cell_type": "code",
   "execution_count": 9,
   "id": "98edf679",
   "metadata": {},
   "outputs": [
    {
     "name": "stdout",
     "output_type": "stream",
     "text": [
      "dirs.RAWDATA=PosixPath('/Users/bhklab/TRASH/test-projs/test1/data/rawdata') has 101 files\n"
     ]
    }
   ],
   "source": [
    "print(f'{dirs.RAWDATA=} has {len(list(dirs.RAWDATA.glob(\"*\")))} files')"
   ]
  },
  {
   "cell_type": "code",
   "execution_count": 10,
   "id": "e7992724",
   "metadata": {},
   "outputs": [
    {
     "name": "stdout",
     "output_type": "stream",
     "text": [
      "\u001b[01;34m/Users/bhklab/TRASH/test-projs/test1/data/rawdata\u001b[0m\n",
      "├── \u001b[00m001.csv\u001b[0m\n",
      "├── \u001b[00m002.csv\u001b[0m\n",
      "├── \u001b[00m003.csv\u001b[0m\n",
      "├── \u001b[00m004.csv\u001b[0m\n",
      "├── \u001b[00m005.csv\u001b[0m\n",
      "├── \u001b[00m006.csv\u001b[0m\n",
      "├── \u001b[00m007.csv\u001b[0m\n",
      "├── \u001b[00m008.csv\u001b[0m\n",
      "├── \u001b[00m009.csv\u001b[0m\n",
      "├── \u001b[00m010.csv\u001b[0m\n",
      "├── \u001b[00m011.csv\u001b[0m\n",
      "├── \u001b[00m012.csv\u001b[0m\n",
      "├── \u001b[00m013.csv\u001b[0m\n",
      "├── \u001b[00m014.csv\u001b[0m\n",
      "├── \u001b[00m015.csv\u001b[0m\n",
      "├── \u001b[00m016.csv\u001b[0m\n",
      "├── \u001b[00m017.csv\u001b[0m\n",
      "├── \u001b[00m018.csv\u001b[0m\n",
      "├── \u001b[00m019.csv\u001b[0m\n",
      "├── \u001b[00m020.csv\u001b[0m\n",
      "├── \u001b[00m021.csv\u001b[0m\n",
      "├── \u001b[00m022.csv\u001b[0m\n",
      "├── \u001b[00m023.csv\u001b[0m\n",
      "├── \u001b[00m024.csv\u001b[0m\n",
      "├── \u001b[00m025.csv\u001b[0m\n",
      "├── \u001b[00m026.csv\u001b[0m\n",
      "├── \u001b[00m027.csv\u001b[0m\n",
      "├── \u001b[00m028.csv\u001b[0m\n",
      "├── \u001b[00m029.csv\u001b[0m\n",
      "├── \u001b[00m030.csv\u001b[0m\n",
      "├── \u001b[00m031.csv\u001b[0m\n",
      "├── \u001b[00m032.csv\u001b[0m\n",
      "├── \u001b[00m033.csv\u001b[0m\n",
      "├── \u001b[00m034.csv\u001b[0m\n",
      "├── \u001b[00m035.csv\u001b[0m\n",
      "├── \u001b[00m036.csv\u001b[0m\n",
      "├── \u001b[00m037.csv\u001b[0m\n",
      "├── \u001b[00m038.csv\u001b[0m\n",
      "├── \u001b[00m039.csv\u001b[0m\n",
      "├── \u001b[00m040.csv\u001b[0m\n",
      "├── \u001b[00m041.csv\u001b[0m\n",
      "├── \u001b[00m042.csv\u001b[0m\n",
      "├── \u001b[00m043.csv\u001b[0m\n",
      "├── \u001b[00m044.csv\u001b[0m\n",
      "├── \u001b[00m045.csv\u001b[0m\n",
      "├── \u001b[00m046.csv\u001b[0m\n",
      "├── \u001b[00m047.csv\u001b[0m\n",
      "├── \u001b[00m048.csv\u001b[0m\n",
      "├── \u001b[00m049.csv\u001b[0m\n",
      "├── \u001b[00m050.csv\u001b[0m\n",
      "├── \u001b[00m051.csv\u001b[0m\n",
      "├── \u001b[00m052.csv\u001b[0m\n",
      "├── \u001b[00m053.csv\u001b[0m\n",
      "├── \u001b[00m054.csv\u001b[0m\n",
      "├── \u001b[00m055.csv\u001b[0m\n",
      "├── \u001b[00m056.csv\u001b[0m\n",
      "├── \u001b[00m057.csv\u001b[0m\n",
      "├── \u001b[00m058.csv\u001b[0m\n",
      "├── \u001b[00m059.csv\u001b[0m\n",
      "├── \u001b[00m060.csv\u001b[0m\n",
      "├── \u001b[00m061.csv\u001b[0m\n",
      "├── \u001b[00m062.csv\u001b[0m\n",
      "├── \u001b[00m063.csv\u001b[0m\n",
      "├── \u001b[00m064.csv\u001b[0m\n",
      "├── \u001b[00m065.csv\u001b[0m\n",
      "├── \u001b[00m066.csv\u001b[0m\n",
      "├── \u001b[00m067.csv\u001b[0m\n",
      "├── \u001b[00m068.csv\u001b[0m\n",
      "├── \u001b[00m069.csv\u001b[0m\n",
      "├── \u001b[00m070.csv\u001b[0m\n",
      "├── \u001b[00m071.csv\u001b[0m\n",
      "├── \u001b[00m072.csv\u001b[0m\n",
      "├── \u001b[00m073.csv\u001b[0m\n",
      "├── \u001b[00m074.csv\u001b[0m\n",
      "├── \u001b[00m075.csv\u001b[0m\n",
      "├── \u001b[00m076.csv\u001b[0m\n",
      "├── \u001b[00m077.csv\u001b[0m\n",
      "├── \u001b[00m078.csv\u001b[0m\n",
      "├── \u001b[00m079.csv\u001b[0m\n",
      "├── \u001b[00m080.csv\u001b[0m\n",
      "├── \u001b[00m081.csv\u001b[0m\n",
      "├── \u001b[00m082.csv\u001b[0m\n",
      "├── \u001b[00m083.csv\u001b[0m\n",
      "├── \u001b[00m084.csv\u001b[0m\n",
      "├── \u001b[00m085.csv\u001b[0m\n",
      "├── \u001b[00m086.csv\u001b[0m\n",
      "├── \u001b[00m087.csv\u001b[0m\n",
      "├── \u001b[00m088.csv\u001b[0m\n",
      "├── \u001b[00m089.csv\u001b[0m\n",
      "├── \u001b[00m090.csv\u001b[0m\n",
      "├── \u001b[00m091.csv\u001b[0m\n",
      "├── \u001b[00m092.csv\u001b[0m\n",
      "├── \u001b[00m093.csv\u001b[0m\n",
      "├── \u001b[00m094.csv\u001b[0m\n",
      "├── \u001b[00m095.csv\u001b[0m\n",
      "├── \u001b[00m096.csv\u001b[0m\n",
      "├── \u001b[00m097.csv\u001b[0m\n",
      "├── \u001b[00m098.csv\u001b[0m\n",
      "├── \u001b[00m099.csv\u001b[0m\n",
      "├── \u001b[00m100.csv\u001b[0m\n",
      "└── \u001b[00mREADME.md\u001b[0m\n",
      "\n",
      "1 directory, 101 files\n"
     ]
    }
   ],
   "source": [
    "!tree {dirs.RAWDATA}"
   ]
  },
  {
   "cell_type": "code",
   "execution_count": null,
   "id": "00bfc400",
   "metadata": {},
   "outputs": [],
   "source": []
  }
 ],
 "metadata": {
  "kernelspec": {
   "display_name": "default",
   "language": "python",
   "name": "python3"
  },
  "language_info": {
   "codemirror_mode": {
    "name": "ipython",
    "version": 3
   },
   "file_extension": ".py",
   "mimetype": "text/x-python",
   "name": "python",
   "nbconvert_exporter": "python",
   "pygments_lexer": "ipython3",
   "version": "3.13.3"
  }
 },
 "nbformat": 4,
 "nbformat_minor": 5
}
